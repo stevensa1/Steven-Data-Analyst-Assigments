{
 "cells": [
  {
   "cell_type": "markdown",
   "metadata": {},
   "source": [
    "## Introduction to Probability and Statistics\n",
    "## Assignment\n",
    "\n",
    "In this assignment, we will use the dataset of diabetes patients taken [from here](https://www4.stat.ncsu.edu/~boos/var.select/diabetes.html)."
   ]
  },
  {
   "cell_type": "code",
   "execution_count": 1,
   "metadata": {},
   "outputs": [
    {
     "data": {
      "text/html": [
       "<div>\n",
       "<style scoped>\n",
       "    .dataframe tbody tr th:only-of-type {\n",
       "        vertical-align: middle;\n",
       "    }\n",
       "\n",
       "    .dataframe tbody tr th {\n",
       "        vertical-align: top;\n",
       "    }\n",
       "\n",
       "    .dataframe thead th {\n",
       "        text-align: right;\n",
       "    }\n",
       "</style>\n",
       "<table border=\"1\" class=\"dataframe\">\n",
       "  <thead>\n",
       "    <tr style=\"text-align: right;\">\n",
       "      <th></th>\n",
       "      <th>AGE</th>\n",
       "      <th>SEX</th>\n",
       "      <th>BMI</th>\n",
       "      <th>BP</th>\n",
       "      <th>S1</th>\n",
       "      <th>S2</th>\n",
       "      <th>S3</th>\n",
       "      <th>S4</th>\n",
       "      <th>S5</th>\n",
       "      <th>S6</th>\n",
       "      <th>Y</th>\n",
       "    </tr>\n",
       "  </thead>\n",
       "  <tbody>\n",
       "    <tr>\n",
       "      <th>0</th>\n",
       "      <td>59</td>\n",
       "      <td>2</td>\n",
       "      <td>32.1</td>\n",
       "      <td>101.0</td>\n",
       "      <td>157</td>\n",
       "      <td>93.2</td>\n",
       "      <td>38.0</td>\n",
       "      <td>4.0</td>\n",
       "      <td>4.8598</td>\n",
       "      <td>87</td>\n",
       "      <td>151</td>\n",
       "    </tr>\n",
       "    <tr>\n",
       "      <th>1</th>\n",
       "      <td>48</td>\n",
       "      <td>1</td>\n",
       "      <td>21.6</td>\n",
       "      <td>87.0</td>\n",
       "      <td>183</td>\n",
       "      <td>103.2</td>\n",
       "      <td>70.0</td>\n",
       "      <td>3.0</td>\n",
       "      <td>3.8918</td>\n",
       "      <td>69</td>\n",
       "      <td>75</td>\n",
       "    </tr>\n",
       "    <tr>\n",
       "      <th>2</th>\n",
       "      <td>72</td>\n",
       "      <td>2</td>\n",
       "      <td>30.5</td>\n",
       "      <td>93.0</td>\n",
       "      <td>156</td>\n",
       "      <td>93.6</td>\n",
       "      <td>41.0</td>\n",
       "      <td>4.0</td>\n",
       "      <td>4.6728</td>\n",
       "      <td>85</td>\n",
       "      <td>141</td>\n",
       "    </tr>\n",
       "    <tr>\n",
       "      <th>3</th>\n",
       "      <td>24</td>\n",
       "      <td>1</td>\n",
       "      <td>25.3</td>\n",
       "      <td>84.0</td>\n",
       "      <td>198</td>\n",
       "      <td>131.4</td>\n",
       "      <td>40.0</td>\n",
       "      <td>5.0</td>\n",
       "      <td>4.8903</td>\n",
       "      <td>89</td>\n",
       "      <td>206</td>\n",
       "    </tr>\n",
       "    <tr>\n",
       "      <th>4</th>\n",
       "      <td>50</td>\n",
       "      <td>1</td>\n",
       "      <td>23.0</td>\n",
       "      <td>101.0</td>\n",
       "      <td>192</td>\n",
       "      <td>125.4</td>\n",
       "      <td>52.0</td>\n",
       "      <td>4.0</td>\n",
       "      <td>4.2905</td>\n",
       "      <td>80</td>\n",
       "      <td>135</td>\n",
       "    </tr>\n",
       "  </tbody>\n",
       "</table>\n",
       "</div>"
      ],
      "text/plain": [
       "   AGE  SEX   BMI     BP   S1     S2    S3   S4      S5  S6    Y\n",
       "0   59    2  32.1  101.0  157   93.2  38.0  4.0  4.8598  87  151\n",
       "1   48    1  21.6   87.0  183  103.2  70.0  3.0  3.8918  69   75\n",
       "2   72    2  30.5   93.0  156   93.6  41.0  4.0  4.6728  85  141\n",
       "3   24    1  25.3   84.0  198  131.4  40.0  5.0  4.8903  89  206\n",
       "4   50    1  23.0  101.0  192  125.4  52.0  4.0  4.2905  80  135"
      ]
     },
     "execution_count": 1,
     "metadata": {},
     "output_type": "execute_result"
    }
   ],
   "source": [
    "import pandas as pd\n",
    "import numpy as np\n",
    "import seaborn as sns\n",
    "\n",
    "url = 'https://www4.stat.ncsu.edu/~boos/var.select/diabetes.tab.txt'\n",
    "df = pd.read_csv(url, delimiter='\\t')\n",
    "\n",
    "df.head()"
   ]
  },
  {
   "cell_type": "markdown",
   "metadata": {},
   "source": [
    "\n",
    "In this dataset, columns as the following:\n",
    "* Age and sex are self-explanatory\n",
    "* BMI is body mass index\n",
    "* BP is average blood pressure\n",
    "* S1 through S6 are different blood measurements\n",
    "* Y is the qualitative measure of disease progression over one year\n",
    "\n",
    "Let's study this dataset using methods of probability and statistics.\n",
    "\n",
    "### Task 1: Compute mean values and variance for all values"
   ]
  },
  {
   "cell_type": "code",
   "execution_count": 2,
   "metadata": {},
   "outputs": [
    {
     "name": "stdout",
     "output_type": "stream",
     "text": [
      "           mean     variance\n",
      "AGE   48.518100   171.846610\n",
      "SEX    1.468326     0.249561\n",
      "BMI   26.375792    19.519798\n",
      "BP    94.647014   191.304401\n",
      "S1   189.140271  1197.717241\n",
      "S2   115.439140   924.955494\n",
      "S3    49.788462   167.293585\n",
      "S4     4.070249     1.665261\n",
      "S5     4.641411     0.272892\n",
      "S6    91.260181   132.165712\n",
      "Y    152.133484  5943.331348\n"
     ]
    }
   ],
   "source": [
    "# Memperoleh nilai mean dan var dari setiap kolom\n",
    "mean = df.mean()\n",
    "var = df.var()\n",
    "\n",
    "# Menggabungkan kedua data tersebut\n",
    "result = pd.concat([mean, var], axis=1)\n",
    "# Mengubah nama kolom\n",
    "result.columns = [\"mean\", \"variance\"]\n",
    "\n",
    "# Menampilkan hasil\n",
    "print(result)"
   ]
  },
  {
   "cell_type": "markdown",
   "metadata": {},
   "source": [
    "### Task 2: Plot boxplots for BMI, BP and Y depending on gender"
   ]
  },
  {
   "cell_type": "code",
   "execution_count": 21,
   "metadata": {},
   "outputs": [
    {
     "data": {
      "image/png": "[encoded data removed]",
      "text/plain": [
       "<Figure size 640x480 with 1 Axes>"
      ]
     },
     "metadata": {},
     "output_type": "display_data"
    }
   ],
   "source": [
    "# Menampilkan boxplot dari kolom BMI berdasarkan SEX dari data df dengan orientasi vertikal menggunakan tema palet Set2\n",
    "ax = sns.boxplot(y = \"BMI\", x = \"SEX\",data=df, orient=\"v\", palette=\"Set2\")"
   ]
  },
  {
   "attachments": {},
   "cell_type": "markdown",
   "metadata": {},
   "source": [
    "Berdasarkan plot Boxplot tersebut, gender 2 memiliki lebih banyak outlier daripada gender 1 pada variabel BMI"
   ]
  },
  {
   "cell_type": "code",
   "execution_count": 22,
   "metadata": {},
   "outputs": [
    {
     "data": {
      "image/png": "[encoded data removed]",
      "text/plain": [
       "<Figure size 640x480 with 1 Axes>"
      ]
     },
     "metadata": {},
     "output_type": "display_data"
    }
   ],
   "source": [
    "# Menampilkan boxplot dari kolom BP berdasarkan SEX dari data df dengan orientasi vertikal menggunakan tema palet Set2\n",
    "ax = sns.boxplot(y = \"BP\", x = \"SEX\",data=df, orient=\"v\", palette=\"Set2\")"
   ]
  },
  {
   "attachments": {},
   "cell_type": "markdown",
   "metadata": {},
   "source": [
    "Berdasarkan pada plot boxplot tersebut, gender 1 memiliki 2 outlier pada variabel BP, sedangkan pada gender 2 tidak terdapat outlier"
   ]
  },
  {
   "cell_type": "code",
   "execution_count": 23,
   "metadata": {},
   "outputs": [
    {
     "data": {
      "image/png": "[encoded data removed]",
      "text/plain": [
       "<Figure size 640x480 with 1 Axes>"
      ]
     },
     "metadata": {},
     "output_type": "display_data"
    }
   ],
   "source": [
    "# Menampilkan boxplot dari kolom Y berdasarkan SEX dari data df dengan orientasi vertikal menggunakan tema palet Set2\n",
    "ax = sns.boxplot(y = \"Y\", x = \"SEX\",data=df, orient=\"v\", palette=\"Set2\")"
   ]
  },
  {
   "attachments": {},
   "cell_type": "markdown",
   "metadata": {},
   "source": [
    "Berdasarkan plot boxplot tersebut, tidak ditemukan adanya outlier pada variabel Y baik pada gender 1 maupun gender 2"
   ]
  },
  {
   "cell_type": "markdown",
   "metadata": {},
   "source": [
    "### Task 3: What is the the distribution of Age, Sex, BMI and Y variables?"
   ]
  },
  {
   "cell_type": "code",
   "execution_count": 3,
   "metadata": {},
   "outputs": [
    {
     "data": {
      "text/plain": [
       "<seaborn.axisgrid.FacetGrid at 0x28364a9bfd0>"
      ]
     },
     "execution_count": 3,
     "metadata": {},
     "output_type": "execute_result"
    },
    {
     "data": {
      "image/png": "[encoded data removed]",
      "text/plain": [
       "<Figure size 500x500 with 1 Axes>"
      ]
     },
     "metadata": {},
     "output_type": "display_data"
    }
   ],
   "source": [
    "# The distribution of Age\n",
    "sns.displot(df['AGE'])"
   ]
  },
  {
   "attachments": {},
   "cell_type": "markdown",
   "metadata": {},
   "source": [
    "Variabel \"AGE\" memiliki kecenderungan mirip dengan distribusi Normal"
   ]
  },
  {
   "cell_type": "code",
   "execution_count": 59,
   "metadata": {},
   "outputs": [
    {
     "name": "stdout",
     "output_type": "stream",
     "text": [
      "               p-value  criteria     status\n",
      "beta      5.105339e-17      0.05  Reject H0\n",
      "chi2      5.105339e-17      0.05  Reject H0\n",
      "expon     5.105339e-17      0.05  Reject H0\n",
      "f         5.105339e-17      0.05  Reject H0\n",
      "gamma     5.105339e-17      0.05  Reject H0\n",
      "logistic  5.105339e-17      0.05  Reject H0\n",
      "norm      5.105339e-17      0.05  Reject H0\n",
      "unif      5.105339e-17      0.05  Reject H0\n"
     ]
    }
   ],
   "source": [
    "# Pengujian formal distribusi\n",
    "from scipy import stats\n",
    "\n",
    "# Pendefinisian distribusi yang akan diujikan\n",
    "dist = ['beta', 'chi2', 'expon', 'f', 'gamma', 'logistic', 'norm', 'unif']\n",
    "\n",
    "# Membuat wadah untuk menampung nilai p-value\n",
    "p_value = []\n",
    "\n",
    "# Pengujian formal distribusi dengan looping dari setiap distribusi pada array dist\n",
    "for i in dist:\n",
    "    # Menambahkan nilai pvalue dari hasil pengujian kolmogorov-smirnov ke dalam wadah p_value\n",
    "    p_value.append(stats.kstest(df['AGE'], dist).pvalue)\n",
    "\n",
    "# if p-value < criteria, then reject H0, else accept H0\n",
    "criteria = 0.05\n",
    "status = ['Reject H0' if p < criteria else 'Accept H0' for p in p_value]\n",
    "\n",
    "# Membuat dataframe untuk menampilkan hasil pengujian\n",
    "result = pd.DataFrame({'p-value': p_value, 'criteria': criteria, 'status': status}, index=dist)\n",
    "\n",
    "# Menampilkan hasil pengujian\n",
    "print(result)\n"
   ]
  },
  {
   "attachments": {},
   "cell_type": "markdown",
   "metadata": {},
   "source": [
    "Berdasarkan output tersebut, diperoleh bahwa variabel 'AGE' tidak mengikuti distribusi 'beta', 'chi2', 'expon', 'f', 'gamma', 'logistic', 'norm', 'unif' karena memiliki nilai p-value yang dibawah dari alpha (0.05)"
   ]
  },
  {
   "cell_type": "code",
   "execution_count": 6,
   "metadata": {},
   "outputs": [
    {
     "data": {
      "text/plain": [
       "<seaborn.axisgrid.FacetGrid at 0x28365f1a5d0>"
      ]
     },
     "execution_count": 6,
     "metadata": {},
     "output_type": "execute_result"
    },
    {
     "data": {
      "image/png": "[encoded data removed]",
      "text/plain": [
       "<Figure size 500x500 with 1 Axes>"
      ]
     },
     "metadata": {},
     "output_type": "display_data"
    }
   ],
   "source": [
    "# The distribution of Sex\n",
    "sns.displot(df['SEX'])"
   ]
  },
  {
   "attachments": {},
   "cell_type": "markdown",
   "metadata": {},
   "source": [
    "Variabel \"SEX\" pada data memiliki pola distribusi yang tidak terdistribusi secara normal, tetapi terlihat seperti terdistribusi secara seragam"
   ]
  },
  {
   "cell_type": "code",
   "execution_count": 60,
   "metadata": {},
   "outputs": [
    {
     "name": "stdout",
     "output_type": "stream",
     "text": [
      "               p-value  criteria     status\n",
      "beta      5.105339e-17      0.05  Reject H0\n",
      "chi2      5.105339e-17      0.05  Reject H0\n",
      "expon     5.105339e-17      0.05  Reject H0\n",
      "f         5.105339e-17      0.05  Reject H0\n",
      "gamma     5.105339e-17      0.05  Reject H0\n",
      "logistic  5.105339e-17      0.05  Reject H0\n",
      "norm      5.105339e-17      0.05  Reject H0\n",
      "unif      5.105339e-17      0.05  Reject H0\n"
     ]
    }
   ],
   "source": [
    "# Pengujian formal distribusi\n",
    "from scipy import stats\n",
    "\n",
    "# Pendefinisian distribusi yang akan diujikan\n",
    "dist = ['beta', 'chi2', 'expon', 'f', 'gamma', 'logistic', 'norm', 'unif']\n",
    "\n",
    "# Membuat wadah untuk menampung nilai p-value\n",
    "p_value = []\n",
    "\n",
    "# Pengujian formal distribusi dengan looping dari setiap distribusi pada array dist\n",
    "for i in dist:\n",
    "    # Menambahkan nilai pvalue dari hasil pengujian kolmogorov-smirnov ke dalam wadah p_value\n",
    "    p_value.append(stats.kstest(df['SEX'], dist).pvalue)\n",
    "\n",
    "# if p-value < criteria, then reject H0, else accept H0\n",
    "criteria = 0.05\n",
    "status = ['Reject H0' if p < criteria else 'Accept H0' for p in p_value]\n",
    "\n",
    "# Membuat dataframe untuk menampilkan hasil pengujian\n",
    "result = pd.DataFrame({'p-value': p_value, 'criteria': criteria, 'status': status}, index=dist)\n",
    "\n",
    "# Menampilkan hasil pengujian\n",
    "print(result)\n"
   ]
  },
  {
   "attachments": {},
   "cell_type": "markdown",
   "metadata": {},
   "source": [
    "Berdasarkan output tersebut, diperoleh bahwa variabel 'SEX' tidak mengikuti distribusi 'beta', 'chi2', 'expon', 'f', 'gamma', 'logistic', 'norm', 'unif' karena memiliki nilai p-value yang dibawah dari alpha (0.05)"
   ]
  },
  {
   "cell_type": "code",
   "execution_count": 7,
   "metadata": {},
   "outputs": [
    {
     "data": {
      "text/plain": [
       "<seaborn.axisgrid.FacetGrid at 0x2836a91b950>"
      ]
     },
     "execution_count": 7,
     "metadata": {},
     "output_type": "execute_result"
    },
    {
     "data": {
      "image/png": "[encoded data removed]",
      "text/plain": [
       "<Figure size 500x500 with 1 Axes>"
      ]
     },
     "metadata": {},
     "output_type": "display_data"
    }
   ],
   "source": [
    "# The distribution of BMI\n",
    "sns.displot(df['BMI'])"
   ]
  },
  {
   "attachments": {},
   "cell_type": "markdown",
   "metadata": {},
   "source": [
    "Variabel \"BMI\" memiliki kecenderungan mirip dengan distribusi Normal"
   ]
  },
  {
   "cell_type": "code",
   "execution_count": 61,
   "metadata": {},
   "outputs": [
    {
     "name": "stdout",
     "output_type": "stream",
     "text": [
      "               p-value  criteria     status\n",
      "beta      5.105339e-17      0.05  Reject H0\n",
      "chi2      5.105339e-17      0.05  Reject H0\n",
      "expon     5.105339e-17      0.05  Reject H0\n",
      "f         5.105339e-17      0.05  Reject H0\n",
      "gamma     5.105339e-17      0.05  Reject H0\n",
      "logistic  5.105339e-17      0.05  Reject H0\n",
      "norm      5.105339e-17      0.05  Reject H0\n",
      "unif      5.105339e-17      0.05  Reject H0\n"
     ]
    }
   ],
   "source": [
    "# Pengujian formal distribusi\n",
    "from scipy import stats\n",
    "\n",
    "# Pendefinisian distribusi yang akan diujikan\n",
    "dist = ['beta', 'chi2', 'expon', 'f', 'gamma', 'logistic', 'norm', 'unif']\n",
    "\n",
    "# Membuat wadah untuk menampung nilai p-value\n",
    "p_value = []\n",
    "\n",
    "# Pengujian formal distribusi dengan looping dari setiap distribusi pada array dist\n",
    "for i in dist:\n",
    "    # Menambahkan nilai pvalue dari hasil pengujian kolmogorov-smirnov ke dalam wadah p_value\n",
    "    p_value.append(stats.kstest(df['BMI'], dist).pvalue)\n",
    "\n",
    "# if p-value < criteria, then reject H0, else accept H0\n",
    "criteria = 0.05\n",
    "status = ['Reject H0' if p < criteria else 'Accept H0' for p in p_value]\n",
    "\n",
    "# Membuat dataframe untuk menampilkan hasil pengujian\n",
    "result = pd.DataFrame({'p-value': p_value, 'criteria': criteria, 'status': status}, index=dist)\n",
    "\n",
    "# Menampilkan hasil pengujian\n",
    "print(result)\n"
   ]
  },
  {
   "attachments": {},
   "cell_type": "markdown",
   "metadata": {},
   "source": [
    "Berdasarkan output tersebut, diperoleh bahwa variabel 'BMI' tidak mengikuti distribusi 'beta', 'chi2', 'expon', 'f', 'gamma', 'logistic', 'norm', 'unif' karena memiliki nilai p-value yang dibawah dari alpha (0.05)"
   ]
  },
  {
   "cell_type": "code",
   "execution_count": 8,
   "metadata": {},
   "outputs": [
    {
     "data": {
      "text/plain": [
       "<seaborn.axisgrid.FacetGrid at 0x2836ac10a50>"
      ]
     },
     "execution_count": 8,
     "metadata": {},
     "output_type": "execute_result"
    },
    {
     "data": {
      "image/png": "[encoded data removed]",
      "text/plain": [
       "<Figure size 500x500 with 1 Axes>"
      ]
     },
     "metadata": {},
     "output_type": "display_data"
    }
   ],
   "source": [
    "# The distribution of BMI\n",
    "sns.displot(df['Y'])"
   ]
  },
  {
   "cell_type": "code",
   "execution_count": 62,
   "metadata": {},
   "outputs": [
    {
     "name": "stdout",
     "output_type": "stream",
     "text": [
      "               p-value  criteria     status\n",
      "beta      5.105339e-17      0.05  Reject H0\n",
      "chi2      5.105339e-17      0.05  Reject H0\n",
      "expon     5.105339e-17      0.05  Reject H0\n",
      "f         5.105339e-17      0.05  Reject H0\n",
      "gamma     5.105339e-17      0.05  Reject H0\n",
      "logistic  5.105339e-17      0.05  Reject H0\n",
      "norm      5.105339e-17      0.05  Reject H0\n",
      "unif      5.105339e-17      0.05  Reject H0\n"
     ]
    }
   ],
   "source": [
    "# Pengujian formal distribusi\n",
    "from scipy import stats\n",
    "\n",
    "# Pendefinisian distribusi yang akan diujikan\n",
    "dist = ['beta', 'chi2', 'expon', 'f', 'gamma', 'logistic', 'norm', 'unif']\n",
    "\n",
    "# Membuat wadah untuk menampung nilai p-value\n",
    "p_value = []\n",
    "\n",
    "# Pengujian formal distribusi dengan looping dari setiap distribusi pada array dist\n",
    "for i in dist:\n",
    "    # Menambahkan nilai pvalue dari hasil pengujian kolmogorov-smirnov ke dalam wadah p_value\n",
    "    p_value.append(stats.kstest(df['Y'], dist).pvalue)\n",
    "\n",
    "# if p-value < criteria, then reject H0, else accept H0\n",
    "criteria = 0.05\n",
    "status = ['Reject H0' if p < criteria else 'Accept H0' for p in p_value]\n",
    "\n",
    "# Membuat dataframe untuk menampilkan hasil pengujian\n",
    "result = pd.DataFrame({'p-value': p_value, 'criteria': criteria, 'status': status}, index=dist)\n",
    "\n",
    "# Menampilkan hasil pengujian\n",
    "print(result)"
   ]
  },
  {
   "attachments": {},
   "cell_type": "markdown",
   "metadata": {},
   "source": [
    "Berdasarkan output tersebut, diperoleh bahwa variabel 'Y' tidak mengikuti distribusi 'beta', 'chi2', 'expon', 'f', 'gamma', 'logistic', 'norm', 'unif' karena memiliki nilai p-value yang dibawah dari alpha (0.05)"
   ]
  }
 ],
 "metadata": {
  "interpreter": {
   "hash": "86193a1ab0ba47eac1c69c1756090baa3b420b3eea7d4aafab8b85f8b312f0c5"
  },
  "kernelspec": {
   "display_name": "Python 3",
   "language": "python",
   "name": "python3"
  },
  "language_info": {
   "codemirror_mode": {
    "name": "ipython",
    "version": 3
   },
   "file_extension": ".py",
   "mimetype": "text/x-python",
   "name": "python",
   "nbconvert_exporter": "python",
   "pygments_lexer": "ipython3",
   "version": "3.11.2"
  }
 },
 "nbformat": 4,
 "nbformat_minor": 2
}
