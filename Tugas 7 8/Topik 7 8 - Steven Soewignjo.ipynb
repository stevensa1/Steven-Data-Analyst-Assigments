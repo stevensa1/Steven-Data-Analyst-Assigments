{
 "cells": [
  {
   "attachments": {},
   "cell_type": "markdown",
   "metadata": {},
   "source": [
    "# Import Library & Data"
   ]
  },
  {
   "cell_type": "code",
   "execution_count": 1,
   "metadata": {},
   "outputs": [
    {
     "name": "stdout",
     "output_type": "stream",
     "text": [
      "     PassengerId  Survived  Pclass  \\\n",
      "0              1         0       3   \n",
      "1              2         1       1   \n",
      "2              3         1       3   \n",
      "3              4         1       1   \n",
      "4              5         0       3   \n",
      "..           ...       ...     ...   \n",
      "886          887         0       2   \n",
      "887          888         1       1   \n",
      "888          889         0       3   \n",
      "889          890         1       1   \n",
      "890          891         0       3   \n",
      "\n",
      "                                                  Name     Sex   Age  SibSp  \\\n",
      "0                              Braund, Mr. Owen Harris    male  22.0      1   \n",
      "1    Cumings, Mrs. John Bradley (Florence Briggs Th...  female  38.0      1   \n",
      "2                               Heikkinen, Miss. Laina  female  26.0      0   \n",
      "3         Futrelle, Mrs. Jacques Heath (Lily May Peel)  female  35.0      1   \n",
      "4                             Allen, Mr. William Henry    male  35.0      0   \n",
      "..                                                 ...     ...   ...    ...   \n",
      "886                              Montvila, Rev. Juozas    male  27.0      0   \n",
      "887                       Graham, Miss. Margaret Edith  female  19.0      0   \n",
      "888           Johnston, Miss. Catherine Helen \"Carrie\"  female   NaN      1   \n",
      "889                              Behr, Mr. Karl Howell    male  26.0      0   \n",
      "890                                Dooley, Mr. Patrick    male  32.0      0   \n",
      "\n",
      "     Parch            Ticket     Fare Cabin Embarked  \n",
      "0        0         A/5 21171   7.2500   NaN        S  \n",
      "1        0          PC 17599  71.2833   C85        C  \n",
      "2        0  STON/O2. 3101282   7.9250   NaN        S  \n",
      "3        0            113803  53.1000  C123        S  \n",
      "4        0            373450   8.0500   NaN        S  \n",
      "..     ...               ...      ...   ...      ...  \n",
      "886      0            211536  13.0000   NaN        S  \n",
      "887      0            112053  30.0000   B42        S  \n",
      "888      2        W./C. 6607  23.4500   NaN        S  \n",
      "889      0            111369  30.0000  C148        C  \n",
      "890      0            370376   7.7500   NaN        Q  \n",
      "\n",
      "[891 rows x 12 columns]\n"
     ]
    }
   ],
   "source": [
    "import pandas as pd\n",
    "import seaborn as sns\n",
    "import matplotlib.pyplot as plt\n",
    "\n",
    "# Read data\n",
    "df = pd.read_csv('train.csv')\n",
    "\n",
    "# Melihat isi dari dataframe\n",
    "print(df)"
   ]
  },
  {
   "attachments": {},
   "cell_type": "markdown",
   "metadata": {},
   "source": [
    "# Melihat Jenis Variabel"
   ]
  },
  {
   "cell_type": "code",
   "execution_count": 2,
   "metadata": {},
   "outputs": [
    {
     "data": {
      "text/plain": [
       "PassengerId      int64\n",
       "Survived         int64\n",
       "Pclass           int64\n",
       "Name            object\n",
       "Sex             object\n",
       "Age            float64\n",
       "SibSp            int64\n",
       "Parch            int64\n",
       "Ticket          object\n",
       "Fare           float64\n",
       "Cabin           object\n",
       "Embarked        object\n",
       "dtype: object"
      ]
     },
     "execution_count": 2,
     "metadata": {},
     "output_type": "execute_result"
    }
   ],
   "source": [
    "# Syntax untk melihat jenis variabel\n",
    "df.dtypes"
   ]
  },
  {
   "attachments": {},
   "cell_type": "markdown",
   "metadata": {},
   "source": [
    "Berdasarkan pada sumber data https://www.kaggle.com/c/titanic/data pada Data Dictionary, diperoleh penjelasan variabel sebagai berikut:\n",
    "1. PassengerID: Merupakan urutan identitas penumpang nilai integer dari 1 hingga ke n.\n",
    "2. Survived: Merupakan variabel yang menyatakan apakah record/observasi/pengamatan selamat dari kejadian. Hal ini menunjukkan bahwa variabel Survived merupakan variabel binary yang dapat dijelaskan secara kategori saja (Variabel Nominal).\n",
    "3. Pclass: Merupakan kelas tiket penumpang, dimana 1 mengindikasikan bahwa penumpang tersebut berada pada 1st class, 2 untuk 2nd class, dan 3 adalah 3rd class dengan kelas tertinggi paad 1st class. Dari hal ini, maka dapat disebutkan bahwa variabel ini merupakan variabel ordinal karena bertingkat.\n",
    "4. Name: Merupakan variabel yang berisikan nama penumpang. Termasuk variabel nominal.\n",
    "5. Sex: Merupakan variabel yang berisikan jenis kelamin penumpang. Variabel ini termasuk variabel nominal karena dapat dikategorikan.\n",
    "6. Age: Merupakan variabel yang berisi umur dari penumpang. Variabel ini termasuk skala rasio.\n",
    "7. SibSp: Merupakan variabel yang menyatakan jumlah Siblings/Spouses yang naik Titanic. Skala data pada variabel \"sibsp\" yang merepresentasikan jumlah saudara kandung/pasangan yang ada di kapal Titanic adalah skala rasio.\n",
    "8. Parch: Jumlah keluarga/anak yang ada di kapal Titanic. Skala data pada variabel ini yang merepresentasikan jumlah keluarga/anak yang ada di kapal Titanic adalah skala data rasio.\n",
    "9. Ticket: Merupakan variabel yang menyatakan nomor tiket untuk penumpang kapal Titanic. Variabel ini juga merupakan variabel dengan skala nominal.\n",
    "10. Fare: Merupakan variabel yang menjelaskan biaya atau tarif yang dikeluarkan penumpang untuk naik kapal Titanic. Variabel ini termasuk variabel dengan skala rasio.\n",
    "11. Cabin: Merupakan variabel yang menyatakan nomor kabin penumpang kapal Titanic. Variabel ini juga merupakan variabel dengan skala nominal.\n",
    "12. Embarked: Merupakan variabel yang menyatakan port tempat penumpang naik kapal Titanic. Variabel ini juga merupakan variabel dengan skala nominal."
   ]
  },
  {
   "attachments": {},
   "cell_type": "markdown",
   "metadata": {},
   "source": [
    "# Pembagian Data Kategorik dengan Numerik\n",
    "Berdasarkan pada penjelasan di atas, maka dapat disimpulkan bahwa variabel yang termasuk kategorik adalah sebagai berikut:\n",
    "1. PassengerID (Nominal)\n",
    "2. Survived (Nominal)\n",
    "3. Pclass (Ordinal)\n",
    "4. Name (Nominal)\n",
    "5. Sex (Nominal)\n",
    "6. Ticket (Nominal)\n",
    "7. Cabin (Nominal)\n",
    "8. Embarked (Nominal)\n",
    "\n",
    "Sedangkan, variabel yang termasuk numerik adalah sebagai berikut:\n",
    "1. Age (Ratio Diskrit)\n",
    "2. SibSp (Ratio Diskrit)\n",
    "3. Parch (Ratio Diskrit)\n",
    "4. Fare (Ratio Kontinyu)\n",
    "\n",
    "Dalam hal ini, kita lakukan standarisasi data dengan mengubah variabel ke jenis yang sesuai untuk variabel yang belum sesuai dengan jenisnya, seperti \"Sex\" yang masih berupa string menjadi variabel kategorik dengan encoding."
   ]
  },
  {
   "cell_type": "code",
   "execution_count": 3,
   "metadata": {},
   "outputs": [
    {
     "name": "stdout",
     "output_type": "stream",
     "text": [
      "     PassengerId  Survived  Pclass  \\\n",
      "0              1         0       3   \n",
      "1              2         1       1   \n",
      "2              3         1       3   \n",
      "3              4         1       1   \n",
      "4              5         0       3   \n",
      "..           ...       ...     ...   \n",
      "886          887         0       2   \n",
      "887          888         1       1   \n",
      "888          889         0       3   \n",
      "889          890         1       1   \n",
      "890          891         0       3   \n",
      "\n",
      "                                                  Name     Sex  \\\n",
      "0                              Braund, Mr. Owen Harris    male   \n",
      "1    Cumings, Mrs. John Bradley (Florence Briggs Th...  female   \n",
      "2                               Heikkinen, Miss. Laina  female   \n",
      "3         Futrelle, Mrs. Jacques Heath (Lily May Peel)  female   \n",
      "4                             Allen, Mr. William Henry    male   \n",
      "..                                                 ...     ...   \n",
      "886                              Montvila, Rev. Juozas    male   \n",
      "887                       Graham, Miss. Margaret Edith  female   \n",
      "888           Johnston, Miss. Catherine Helen \"Carrie\"  female   \n",
      "889                              Behr, Mr. Karl Howell    male   \n",
      "890                                Dooley, Mr. Patrick    male   \n",
      "\n",
      "               Ticket Cabin Embarked  \n",
      "0           A/5 21171   NaN        S  \n",
      "1            PC 17599   C85        C  \n",
      "2    STON/O2. 3101282   NaN        S  \n",
      "3              113803  C123        S  \n",
      "4              373450   NaN        S  \n",
      "..                ...   ...      ...  \n",
      "886            211536   NaN        S  \n",
      "887            112053   B42        S  \n",
      "888        W./C. 6607   NaN        S  \n",
      "889            111369  C148        C  \n",
      "890            370376   NaN        Q  \n",
      "\n",
      "[891 rows x 8 columns]\n"
     ]
    }
   ],
   "source": [
    "# Pembagian data categorical dan numerical\n",
    "df_cat = df[['PassengerId', 'Survived', 'Pclass', 'Name', 'Sex', 'Ticket', 'Cabin', 'Embarked']].copy()\n",
    "print(df_cat)"
   ]
  },
  {
   "cell_type": "code",
   "execution_count": 4,
   "metadata": {},
   "outputs": [
    {
     "name": "stdout",
     "output_type": "stream",
     "text": [
      "      Age  SibSp  Parch     Fare\n",
      "0    22.0      1      0   7.2500\n",
      "1    38.0      1      0  71.2833\n",
      "2    26.0      0      0   7.9250\n",
      "3    35.0      1      0  53.1000\n",
      "4    35.0      0      0   8.0500\n",
      "..    ...    ...    ...      ...\n",
      "886  27.0      0      0  13.0000\n",
      "887  19.0      0      0  30.0000\n",
      "888   NaN      1      2  23.4500\n",
      "889  26.0      0      0  30.0000\n",
      "890  32.0      0      0   7.7500\n",
      "\n",
      "[891 rows x 4 columns]\n"
     ]
    }
   ],
   "source": [
    "df_num = df[['Age', 'SibSp', 'Parch', 'Fare']].copy()\n",
    "print(df_num)"
   ]
  },
  {
   "attachments": {},
   "cell_type": "markdown",
   "metadata": {},
   "source": [
    "# Diagram Bar plot"
   ]
  },
  {
   "attachments": {},
   "cell_type": "markdown",
   "metadata": {},
   "source": [
    "## Diagram Bar plot untuk variabel Survived"
   ]
  },
  {
   "attachments": {},
   "cell_type": "markdown",
   "metadata": {},
   "source": [
    "### Bar plot vertical"
   ]
  },
  {
   "cell_type": "code",
   "execution_count": 5,
   "metadata": {},
   "outputs": [
    {
     "data": {
      "image/png": "[encoded data removed]",
      "text/plain": [
       "<Figure size 640x480 with 1 Axes>"
      ]
     },
     "metadata": {},
     "output_type": "display_data"
    }
   ],
   "source": [
    "# Membuat barplot untuk variabel 'Survived' dari data 'df_cat' yang dibedakan berdasarkan 'Sex'\n",
    "ax = sns.countplot(x = 'Survived', data = df_cat, hue = \"Sex\")\n",
    "# Mengset label x dengan 0 = Not Survived, dan 1 adalah Survived\n",
    "ax.set_xticklabels(['Not Survived', 'Survived'])\n",
    "# Mengatur label pada tiap bar dengan nilai yang sesuai dengan ketinggian bar dengan looping untuk tiap bar ('patches')\n",
    "for p in ax.patches:\n",
    "    ax.annotate(format(p.get_height(), '.0f'),\n",
    "                (p.get_x() + p.get_width() / 2., p.get_height()),\n",
    "                ha='center', va='center', xytext=(0, 10), textcoords='offset points')\n",
    "plt.show()"
   ]
  },
  {
   "attachments": {},
   "cell_type": "markdown",
   "metadata": {},
   "source": [
    "### Bar plot horizontal"
   ]
  },
  {
   "cell_type": "code",
   "execution_count": 7,
   "metadata": {},
   "outputs": [
    {
     "data": {
      "image/png": "[encoded data removed]",
      "text/plain": [
       "<Figure size 640x480 with 1 Axes>"
      ]
     },
     "metadata": {},
     "output_type": "display_data"
    }
   ],
   "source": [
    "# Membuat barplot untuk variabel 'Survived' dari data 'df_cat' yang dibedakan berdasarkan 'Sex'\n",
    "ax = sns.countplot(y = 'Survived', data = df_cat, hue = \"Sex\")\n",
    "# Mengset label x dengan 0 = Not Survived, dan 1 adalah Survived\n",
    "ax.set_yticklabels(['Not Survived', 'Survived'])\n",
    "for i in ax.containers:\n",
    "    ax.bar_label(i, label_type='edge', fontsize=10)\n",
    "\n",
    "plt.show()"
   ]
  },
  {
   "attachments": {},
   "cell_type": "markdown",
   "metadata": {},
   "source": [
    "Berdasarkan dari diagram bar plot di atas, dapat disimpulkan bahwa:\n",
    "Jumlah laki-laki yang tidak selamat lebih banyak dibandingkan dengan jumlah perempuan yang tidak selamat. Hal ini dapat dilihat dari diagram bar plot yang menunjukkan bahwa jumlah laki-laki yang tidak selamat lebih banyak dibandingkan dengan jumlah perempuan yang tidak selamat. Sedangkan untuk jumlah perempuan yang selamat lebih banyak dibandingkan jumlah laki-laki yang selamat. Hal ini menunjukkan bahwa keselamatan perempuan sangat diprioritaskan pada saat kejadian."
   ]
  },
  {
   "attachments": {},
   "cell_type": "markdown",
   "metadata": {},
   "source": [
    "## Diagram Bar plot untuk variabel Gender"
   ]
  },
  {
   "attachments": {},
   "cell_type": "markdown",
   "metadata": {},
   "source": [
    "## Diagram Bar plot untuk variabel Pclass"
   ]
  },
  {
   "attachments": {},
   "cell_type": "markdown",
   "metadata": {},
   "source": [
    "## Diagram Bar plot untuk variabel Cabin"
   ]
  },
  {
   "attachments": {},
   "cell_type": "markdown",
   "metadata": {},
   "source": [
    "## Diagram Bar plot untuk variabel Embarked"
   ]
  },
  {
   "cell_type": "markdown",
   "metadata": {},
   "source": []
  }
 ],
 "metadata": {
  "kernelspec": {
   "display_name": "Python 3",
   "language": "python",
   "name": "python3"
  },
  "language_info": {
   "codemirror_mode": {
    "name": "ipython",
    "version": 3
   },
   "file_extension": ".py",
   "mimetype": "text/x-python",
   "name": "python",
   "nbconvert_exporter": "python",
   "pygments_lexer": "ipython3",
   "version": "3.11.2"
  },
  "orig_nbformat": 4
 },
 "nbformat": 4,
 "nbformat_minor": 2
}
