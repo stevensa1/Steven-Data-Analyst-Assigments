{
  "cells": [
    {
      "cell_type": "markdown",
      "metadata": {
        "id": "f6LjKU50-tD8"
      },
      "source": [
        "##Topic 3 - Python Structure & Data Type Assignment\n"
      ]
    },
    {
      "cell_type": "markdown",
      "metadata": {
        "id": "MPuR878HZEbx"
      },
      "source": [
        "# Data Type Declaration"
      ]
    },
    {
      "cell_type": "markdown",
      "metadata": {
        "id": "GyS5I54D-3K9"
      },
      "source": [
        "1. > Create an empty variable (Points : 5)"
      ]
    },
    {
      "cell_type": "code",
      "execution_count": 10,
      "metadata": {
        "id": "jehesBY-_aKL"
      },
      "outputs": [
        {
          "name": "stdout",
          "output_type": "stream",
          "text": [
            "<class 'NoneType'>\n"
          ]
        }
      ],
      "source": [
        "empty = None\n",
        "print(type(empty))"
      ]
    },
    {
      "cell_type": "markdown",
      "metadata": {
        "id": "6zCz3qZ8_bu2"
      },
      "source": [
        "2. > Create a variable containing your name (Points : 5)"
      ]
    },
    {
      "cell_type": "code",
      "execution_count": 9,
      "metadata": {
        "id": "1wT8jnI6_f-U"
      },
      "outputs": [
        {
          "name": "stdout",
          "output_type": "stream",
          "text": [
            "Steven Soewignjo\n"
          ]
        }
      ],
      "source": [
        "name = \"Steven Soewignjo\"\n",
        "print(name)"
      ]
    },
    {
      "cell_type": "markdown",
      "metadata": {
        "id": "ApatE8m__2Ud"
      },
      "source": [
        "3. > Create a list of 5 items you can find in the classroom (Points : 5)"
      ]
    },
    {
      "cell_type": "code",
      "execution_count": 8,
      "metadata": {
        "id": "-Q0Ynqx1_6hF"
      },
      "outputs": [
        {
          "name": "stdout",
          "output_type": "stream",
          "text": [
            "['Apple', 'Samsung', 'Xiaomi', 'Oppo', 'Vivo']\n"
          ]
        }
      ],
      "source": [
        "brand = [\"Apple\", \"Samsung\", \"Xiaomi\", \"Oppo\", \"Vivo\"]\n",
        "print(brand)"
      ]
    },
    {
      "cell_type": "markdown",
      "metadata": {
        "id": "6FwMmy_9AS5N"
      },
      "source": [
        "4. > Create a dictionary containing 2 keys and value (Points : 5)"
      ]
    },
    {
      "cell_type": "code",
      "execution_count": 11,
      "metadata": {
        "id": "xLc2AlhtASOm"
      },
      "outputs": [
        {
          "name": "stdout",
          "output_type": "stream",
          "text": [
            "{'brand': 'Apple', 'cpu': 'Bionic A16'}\n",
            "Apple\n",
            "Bionic A16\n"
          ]
        }
      ],
      "source": [
        "iPhone14 = {\n",
        "    \"brand\": \"Apple\",\n",
        "    \"cpu\": \"Bionic A16\"\n",
        "}\n",
        "print(iPhone14['brand'])\n",
        "print(iPhone14['cpu'])"
      ]
    },
    {
      "cell_type": "markdown",
      "metadata": {
        "id": "6AqPfAS7a1Oi"
      },
      "source": [
        "# Basic Data Operation"
      ]
    },
    {
      "cell_type": "markdown",
      "metadata": {
        "id": "-ZZF1cXlbqkJ"
      },
      "source": [
        "You sold 20 pieces of electronics at the price of 12000. The customer gets a total discount of 10%.\n",
        "\n",
        "Below are those variables:\n",
        "\n",
        "1.   price=12000\n",
        "2.   quantity_sold=20\n",
        "3.   discount=10%\n",
        "\n",
        "\n",
        "Using Python code, write the code the find the total money that the customer to pay. (Points : 15)"
      ]
    },
    {
      "cell_type": "code",
      "execution_count": 12,
      "metadata": {
        "id": "90T0A2HvbcCK"
      },
      "outputs": [
        {
          "name": "stdout",
          "output_type": "stream",
          "text": [
            "24000.0\n"
          ]
        }
      ],
      "source": [
        "price = 12000\n",
        "quantity_sold = 20\n",
        "discount = 0.1\n",
        "\n",
        "total_price = price * quantity_sold * discount\n",
        "print(total_price)"
      ]
    },
    {
      "cell_type": "markdown",
      "metadata": {
        "id": "G-HHsg4la6mJ"
      },
      "source": [
        "# List Data Operation"
      ]
    },
    {
      "cell_type": "markdown",
      "metadata": {
        "id": "NdoSjVZ4Zbqg"
      },
      "source": [
        "5. > Follow the instructions in the code blocks\n",
        "\n",
        "\n",
        "\n"
      ]
    },
    {
      "cell_type": "code",
      "execution_count": 13,
      "metadata": {
        "id": "xsFxlZGLaQ7y"
      },
      "outputs": [
        {
          "name": "stdout",
          "output_type": "stream",
          "text": [
            "['Indonesia', 'Malaysia', 'Singapore', 'Thailand', 'Vietnam', 'Philippines', 'Brunei']\n"
          ]
        }
      ],
      "source": [
        "# Create list of countries in the world (total 7 countries) (Points : 5)\n",
        "\n",
        "countries = [\"Indonesia\", \"Malaysia\", \"Singapore\", \"Thailand\", \"Vietnam\", \"Philippines\", \"Brunei\"]\n",
        "print(countries)"
      ]
    },
    {
      "cell_type": "code",
      "execution_count": 14,
      "metadata": {
        "id": "6Se125DabJ6R"
      },
      "outputs": [
        {
          "data": {
            "text/plain": [
              "['Indonesia', 'Malaysia', 'Singapore', 'Thailand']"
            ]
          },
          "execution_count": 14,
          "metadata": {},
          "output_type": "execute_result"
        }
      ],
      "source": [
        "# Get 4 countries from the first index of the list (Points : 5)\n",
        "\n",
        "countries[0:4]"
      ]
    },
    {
      "cell_type": "code",
      "execution_count": 15,
      "metadata": {
        "id": "FSU5QfExbKAh"
      },
      "outputs": [],
      "source": [
        "# Append new country to the list (Points : 5)\n",
        "\n",
        "countries.append(\"Cambodia\")"
      ]
    },
    {
      "cell_type": "code",
      "execution_count": 16,
      "metadata": {
        "id": "DlvXbKlnbKGR"
      },
      "outputs": [],
      "source": [
        "# Drop one country from the list (Points : 5)\n",
        "\n",
        "countries.remove(\"Cambodia\")"
      ]
    },
    {
      "cell_type": "code",
      "execution_count": 17,
      "metadata": {
        "id": "F1NJ6JCQbKJ7"
      },
      "outputs": [
        {
          "data": {
            "text/plain": [
              "'Brunei'"
            ]
          },
          "execution_count": 17,
          "metadata": {},
          "output_type": "execute_result"
        }
      ],
      "source": [
        "# Get country in the last index (Points : 5)\n",
        "\n",
        "countries[-1]"
      ]
    },
    {
      "cell_type": "markdown",
      "metadata": {
        "id": "Kfkq-SmIdJR6"
      },
      "source": [
        "# Dictionary Data Operation"
      ]
    },
    {
      "cell_type": "markdown",
      "metadata": {
        "id": "WyJ8CJzdeMiS"
      },
      "source": [
        "6. >  Follow the instructions below\n",
        "\n",
        "\n",
        "\n"
      ]
    },
    {
      "cell_type": "code",
      "execution_count": 18,
      "metadata": {
        "id": "fVHYIKLwdMfq"
      },
      "outputs": [],
      "source": [
        "# Given the dictionary below\n",
        "\n",
        "customer={\n",
        "    \"name\":['Dio','Eka','Wayu','Riki'],\n",
        "    \"age\":[20,19,24,39],\n",
        "    \"gender\":[1,0,0,1],\n",
        "    \"membership\":['Platinum','Gold','Silver','Silver']\n",
        "}"
      ]
    },
    {
      "cell_type": "code",
      "execution_count": 20,
      "metadata": {
        "id": "LpRVtz4_eJK5"
      },
      "outputs": [
        {
          "data": {
            "text/plain": [
              "dict_keys(['name', 'age', 'gender', 'membership'])"
            ]
          },
          "execution_count": 20,
          "metadata": {},
          "output_type": "execute_result"
        }
      ],
      "source": [
        "# Print all keys in customer (Points : 5)\n",
        "\n",
        "#Code goes here\n",
        "customer.keys()"
      ]
    },
    {
      "cell_type": "code",
      "execution_count": 21,
      "metadata": {
        "id": "QiEMM94FeYrz"
      },
      "outputs": [
        {
          "data": {
            "text/plain": [
              "['Dio', 'Eka', 'Wayu', 'Riki']"
            ]
          },
          "execution_count": 21,
          "metadata": {},
          "output_type": "execute_result"
        }
      ],
      "source": [
        "# Print all customer names (Points : 5)\n",
        "\n",
        "#Code goes here\n",
        "customer['name']"
      ]
    },
    {
      "cell_type": "code",
      "execution_count": 22,
      "metadata": {
        "id": "P2SeErUGgQ-D"
      },
      "outputs": [
        {
          "data": {
            "text/plain": [
              "'Dio'"
            ]
          },
          "execution_count": 22,
          "metadata": {},
          "output_type": "execute_result"
        }
      ],
      "source": [
        "# Print the first customer name (Points : 5)\n",
        "\n",
        "#Code goes here\n",
        "customer['name'][0]"
      ]
    },
    {
      "cell_type": "code",
      "execution_count": 23,
      "metadata": {
        "id": "c3PlmHxueiPy"
      },
      "outputs": [
        {
          "data": {
            "text/plain": [
              "[20, 19, 24, 39]"
            ]
          },
          "execution_count": 23,
          "metadata": {},
          "output_type": "execute_result"
        }
      ],
      "source": [
        "# Drop \"age\" key from the dictionary (Points : 5)\n",
        "\n",
        "#Code goes here\n",
        "customer.pop('age')"
      ]
    },
    {
      "cell_type": "code",
      "execution_count": 25,
      "metadata": {
        "id": "FgXDh9mIea9x"
      },
      "outputs": [
        {
          "name": "stdout",
          "output_type": "stream",
          "text": [
            "['Male', 'Female', 'Female', 'Male']\n"
          ]
        }
      ],
      "source": [
        "# Replace customer gender list value (Points : 20)\n",
        "# gender 1 => Male\n",
        "# gender 0 => Female \n",
        "\n",
        "#Code goes here\n",
        "for i in range(len(customer['gender'])):\n",
        "    if customer['gender'][i] == 1:\n",
        "        customer['gender'][i] = \"Male\"\n",
        "    else:\n",
        "        customer['gender'][i] = \"Female\"\n",
        "\n",
        "print(customer['gender'])"
      ]
    }
  ],
  "metadata": {
    "colab": {
      "collapsed_sections": [],
      "name": "Topic 4 - Assignment ipynb",
      "provenance": []
    },
    "kernelspec": {
      "display_name": "Python 3",
      "name": "python3"
    },
    "language_info": {
      "codemirror_mode": {
        "name": "ipython",
        "version": 3
      },
      "file_extension": ".py",
      "mimetype": "text/x-python",
      "name": "python",
      "nbconvert_exporter": "python",
      "pygments_lexer": "ipython3",
      "version": "3.11.2"
    }
  },
  "nbformat": 4,
  "nbformat_minor": 0
}
